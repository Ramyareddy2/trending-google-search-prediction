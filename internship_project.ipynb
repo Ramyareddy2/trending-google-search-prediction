{
  "nbformat": 4,
  "nbformat_minor": 0,
  "metadata": {
    "colab": {
      "provenance": [],
      "mount_file_id": "12qkPKO-YBWS-DlxHRgL3jVxFXxQWLsvm",
      "authorship_tag": "ABX9TyMJebDF6wu7SlXG+xpQGS+l",
      "include_colab_link": true
    },
    "kernelspec": {
      "name": "python3",
      "display_name": "Python 3"
    },
    "language_info": {
      "name": "python"
    }
  },
  "cells": [
    {
      "cell_type": "markdown",
      "metadata": {
        "id": "view-in-github",
        "colab_type": "text"
      },
      "source": [
        "<a href=\"https://colab.research.google.com/github/Ramyareddy2/trending-google-search-prediction/blob/main/internship_project.ipynb\" target=\"_parent\"><img src=\"https://colab.research.google.com/assets/colab-badge.svg\" alt=\"Open In Colab\"/></a>"
      ]
    },
    {
      "cell_type": "code",
      "execution_count": 146,
      "metadata": {
        "id": "LyL2Sc4Xb5e0"
      },
      "outputs": [],
      "source": [
        "import pandas as pd"
      ]
    },
    {
      "cell_type": "code",
      "source": [
        "from google.colab import drive\n",
        "drive.mount('/content/drive')"
      ],
      "metadata": {
        "colab": {
          "base_uri": "https://localhost:8080/"
        },
        "id": "Q78hUeIAKWbO",
        "outputId": "c0b3a4c9-683c-49e3-be8d-6a148480c9fe"
      },
      "execution_count": 147,
      "outputs": [
        {
          "output_type": "stream",
          "name": "stdout",
          "text": [
            "Drive already mounted at /content/drive; to attempt to forcibly remount, call drive.mount(\"/content/drive\", force_remount=True).\n"
          ]
        }
      ]
    },
    {
      "cell_type": "code",
      "source": [
        "import numpy as np"
      ],
      "metadata": {
        "id": "6scAIz_rb_Bw"
      },
      "execution_count": 148,
      "outputs": []
    },
    {
      "cell_type": "markdown",
      "source": [],
      "metadata": {
        "id": "kR4S8wYCLQ_3"
      }
    },
    {
      "cell_type": "markdown",
      "source": [],
      "metadata": {
        "id": "W8yK2M9aLRSg"
      }
    },
    {
      "cell_type": "code",
      "source": [
        "import matplotlib.pyplot as plt"
      ],
      "metadata": {
        "id": "cNdwDUmYcBOp"
      },
      "execution_count": 149,
      "outputs": []
    },
    {
      "cell_type": "code",
      "source": [
        "pf=pd.read_csv(\"/content/drive/MyDrive/internship/datasets/order_details.csv.zip\")"
      ],
      "metadata": {
        "id": "SvIXIsAXdEyb"
      },
      "execution_count": 150,
      "outputs": []
    },
    {
      "cell_type": "code",
      "source": [
        "pf"
      ],
      "metadata": {
        "colab": {
          "base_uri": "https://localhost:8080/",
          "height": 424
        },
        "id": "Bo4GiDTMD_B_",
        "outputId": "5dc17e67-6d7b-4eff-eb0a-cbd530e635b9"
      },
      "execution_count": 151,
      "outputs": [
        {
          "output_type": "execute_result",
          "data": {
            "text/plain": [
              "       order_details_id  order_id       pizza_id  quantity\n",
              "0                     1         1     hawaiian_m         1\n",
              "1                     2         2  classic_dlx_m         1\n",
              "2                     3         2  five_cheese_l         1\n",
              "3                     4         2    ital_supr_l         1\n",
              "4                     5         2     mexicana_m         1\n",
              "...                 ...       ...            ...       ...\n",
              "48615             48616     21348  ckn_alfredo_m         1\n",
              "48616             48617     21348  four_cheese_l         1\n",
              "48617             48618     21348   napolitana_s         1\n",
              "48618             48619     21349     mexicana_l         1\n",
              "48619             48620     21350      bbq_ckn_s         1\n",
              "\n",
              "[48620 rows x 4 columns]"
            ],
            "text/html": [
              "\n",
              "  <div id=\"df-9a72e1b2-2dfe-45f8-939b-1fb0a89efeb4\">\n",
              "    <div class=\"colab-df-container\">\n",
              "      <div>\n",
              "<style scoped>\n",
              "    .dataframe tbody tr th:only-of-type {\n",
              "        vertical-align: middle;\n",
              "    }\n",
              "\n",
              "    .dataframe tbody tr th {\n",
              "        vertical-align: top;\n",
              "    }\n",
              "\n",
              "    .dataframe thead th {\n",
              "        text-align: right;\n",
              "    }\n",
              "</style>\n",
              "<table border=\"1\" class=\"dataframe\">\n",
              "  <thead>\n",
              "    <tr style=\"text-align: right;\">\n",
              "      <th></th>\n",
              "      <th>order_details_id</th>\n",
              "      <th>order_id</th>\n",
              "      <th>pizza_id</th>\n",
              "      <th>quantity</th>\n",
              "    </tr>\n",
              "  </thead>\n",
              "  <tbody>\n",
              "    <tr>\n",
              "      <th>0</th>\n",
              "      <td>1</td>\n",
              "      <td>1</td>\n",
              "      <td>hawaiian_m</td>\n",
              "      <td>1</td>\n",
              "    </tr>\n",
              "    <tr>\n",
              "      <th>1</th>\n",
              "      <td>2</td>\n",
              "      <td>2</td>\n",
              "      <td>classic_dlx_m</td>\n",
              "      <td>1</td>\n",
              "    </tr>\n",
              "    <tr>\n",
              "      <th>2</th>\n",
              "      <td>3</td>\n",
              "      <td>2</td>\n",
              "      <td>five_cheese_l</td>\n",
              "      <td>1</td>\n",
              "    </tr>\n",
              "    <tr>\n",
              "      <th>3</th>\n",
              "      <td>4</td>\n",
              "      <td>2</td>\n",
              "      <td>ital_supr_l</td>\n",
              "      <td>1</td>\n",
              "    </tr>\n",
              "    <tr>\n",
              "      <th>4</th>\n",
              "      <td>5</td>\n",
              "      <td>2</td>\n",
              "      <td>mexicana_m</td>\n",
              "      <td>1</td>\n",
              "    </tr>\n",
              "    <tr>\n",
              "      <th>...</th>\n",
              "      <td>...</td>\n",
              "      <td>...</td>\n",
              "      <td>...</td>\n",
              "      <td>...</td>\n",
              "    </tr>\n",
              "    <tr>\n",
              "      <th>48615</th>\n",
              "      <td>48616</td>\n",
              "      <td>21348</td>\n",
              "      <td>ckn_alfredo_m</td>\n",
              "      <td>1</td>\n",
              "    </tr>\n",
              "    <tr>\n",
              "      <th>48616</th>\n",
              "      <td>48617</td>\n",
              "      <td>21348</td>\n",
              "      <td>four_cheese_l</td>\n",
              "      <td>1</td>\n",
              "    </tr>\n",
              "    <tr>\n",
              "      <th>48617</th>\n",
              "      <td>48618</td>\n",
              "      <td>21348</td>\n",
              "      <td>napolitana_s</td>\n",
              "      <td>1</td>\n",
              "    </tr>\n",
              "    <tr>\n",
              "      <th>48618</th>\n",
              "      <td>48619</td>\n",
              "      <td>21349</td>\n",
              "      <td>mexicana_l</td>\n",
              "      <td>1</td>\n",
              "    </tr>\n",
              "    <tr>\n",
              "      <th>48619</th>\n",
              "      <td>48620</td>\n",
              "      <td>21350</td>\n",
              "      <td>bbq_ckn_s</td>\n",
              "      <td>1</td>\n",
              "    </tr>\n",
              "  </tbody>\n",
              "</table>\n",
              "<p>48620 rows × 4 columns</p>\n",
              "</div>\n",
              "      <button class=\"colab-df-convert\" onclick=\"convertToInteractive('df-9a72e1b2-2dfe-45f8-939b-1fb0a89efeb4')\"\n",
              "              title=\"Convert this dataframe to an interactive table.\"\n",
              "              style=\"display:none;\">\n",
              "        \n",
              "  <svg xmlns=\"http://www.w3.org/2000/svg\" height=\"24px\"viewBox=\"0 0 24 24\"\n",
              "       width=\"24px\">\n",
              "    <path d=\"M0 0h24v24H0V0z\" fill=\"none\"/>\n",
              "    <path d=\"M18.56 5.44l.94 2.06.94-2.06 2.06-.94-2.06-.94-.94-2.06-.94 2.06-2.06.94zm-11 1L8.5 8.5l.94-2.06 2.06-.94-2.06-.94L8.5 2.5l-.94 2.06-2.06.94zm10 10l.94 2.06.94-2.06 2.06-.94-2.06-.94-.94-2.06-.94 2.06-2.06.94z\"/><path d=\"M17.41 7.96l-1.37-1.37c-.4-.4-.92-.59-1.43-.59-.52 0-1.04.2-1.43.59L10.3 9.45l-7.72 7.72c-.78.78-.78 2.05 0 2.83L4 21.41c.39.39.9.59 1.41.59.51 0 1.02-.2 1.41-.59l7.78-7.78 2.81-2.81c.8-.78.8-2.07 0-2.86zM5.41 20L4 18.59l7.72-7.72 1.47 1.35L5.41 20z\"/>\n",
              "  </svg>\n",
              "      </button>\n",
              "      \n",
              "  <style>\n",
              "    .colab-df-container {\n",
              "      display:flex;\n",
              "      flex-wrap:wrap;\n",
              "      gap: 12px;\n",
              "    }\n",
              "\n",
              "    .colab-df-convert {\n",
              "      background-color: #E8F0FE;\n",
              "      border: none;\n",
              "      border-radius: 50%;\n",
              "      cursor: pointer;\n",
              "      display: none;\n",
              "      fill: #1967D2;\n",
              "      height: 32px;\n",
              "      padding: 0 0 0 0;\n",
              "      width: 32px;\n",
              "    }\n",
              "\n",
              "    .colab-df-convert:hover {\n",
              "      background-color: #E2EBFA;\n",
              "      box-shadow: 0px 1px 2px rgba(60, 64, 67, 0.3), 0px 1px 3px 1px rgba(60, 64, 67, 0.15);\n",
              "      fill: #174EA6;\n",
              "    }\n",
              "\n",
              "    [theme=dark] .colab-df-convert {\n",
              "      background-color: #3B4455;\n",
              "      fill: #D2E3FC;\n",
              "    }\n",
              "\n",
              "    [theme=dark] .colab-df-convert:hover {\n",
              "      background-color: #434B5C;\n",
              "      box-shadow: 0px 1px 3px 1px rgba(0, 0, 0, 0.15);\n",
              "      filter: drop-shadow(0px 1px 2px rgba(0, 0, 0, 0.3));\n",
              "      fill: #FFFFFF;\n",
              "    }\n",
              "  </style>\n",
              "\n",
              "      <script>\n",
              "        const buttonEl =\n",
              "          document.querySelector('#df-9a72e1b2-2dfe-45f8-939b-1fb0a89efeb4 button.colab-df-convert');\n",
              "        buttonEl.style.display =\n",
              "          google.colab.kernel.accessAllowed ? 'block' : 'none';\n",
              "\n",
              "        async function convertToInteractive(key) {\n",
              "          const element = document.querySelector('#df-9a72e1b2-2dfe-45f8-939b-1fb0a89efeb4');\n",
              "          const dataTable =\n",
              "            await google.colab.kernel.invokeFunction('convertToInteractive',\n",
              "                                                     [key], {});\n",
              "          if (!dataTable) return;\n",
              "\n",
              "          const docLinkHtml = 'Like what you see? Visit the ' +\n",
              "            '<a target=\"_blank\" href=https://colab.research.google.com/notebooks/data_table.ipynb>data table notebook</a>'\n",
              "            + ' to learn more about interactive tables.';\n",
              "          element.innerHTML = '';\n",
              "          dataTable['output_type'] = 'display_data';\n",
              "          await google.colab.output.renderOutput(dataTable, element);\n",
              "          const docLink = document.createElement('div');\n",
              "          docLink.innerHTML = docLinkHtml;\n",
              "          element.appendChild(docLink);\n",
              "        }\n",
              "      </script>\n",
              "    </div>\n",
              "  </div>\n",
              "  "
            ]
          },
          "metadata": {},
          "execution_count": 151
        }
      ]
    },
    {
      "cell_type": "code",
      "source": [
        "df=pf.iloc[0:500,:]"
      ],
      "metadata": {
        "id": "RCagp4lPEAuX"
      },
      "execution_count": 152,
      "outputs": []
    },
    {
      "cell_type": "code",
      "source": [
        "df"
      ],
      "metadata": {
        "colab": {
          "base_uri": "https://localhost:8080/",
          "height": 424
        },
        "id": "SGiRTaW1ETeY",
        "outputId": "6bd291ae-140f-4c71-a0fe-3adf8f03f1b8"
      },
      "execution_count": 153,
      "outputs": [
        {
          "output_type": "execute_result",
          "data": {
            "text/plain": [
              "     order_details_id  order_id       pizza_id  quantity\n",
              "0                   1         1     hawaiian_m         1\n",
              "1                   2         2  classic_dlx_m         1\n",
              "2                   3         2  five_cheese_l         1\n",
              "3                   4         2    ital_supr_l         1\n",
              "4                   5         2     mexicana_m         1\n",
              "..                ...       ...            ...       ...\n",
              "495               496       212  ital_cpcllo_l         1\n",
              "496               497       213  four_cheese_l         1\n",
              "497               498       214  ital_cpcllo_l         1\n",
              "498               499       214    ital_supr_m         1\n",
              "499               500       214     mexicana_s         1\n",
              "\n",
              "[500 rows x 4 columns]"
            ],
            "text/html": [
              "\n",
              "  <div id=\"df-d68e658d-537e-45c1-b18c-79afb7d84657\">\n",
              "    <div class=\"colab-df-container\">\n",
              "      <div>\n",
              "<style scoped>\n",
              "    .dataframe tbody tr th:only-of-type {\n",
              "        vertical-align: middle;\n",
              "    }\n",
              "\n",
              "    .dataframe tbody tr th {\n",
              "        vertical-align: top;\n",
              "    }\n",
              "\n",
              "    .dataframe thead th {\n",
              "        text-align: right;\n",
              "    }\n",
              "</style>\n",
              "<table border=\"1\" class=\"dataframe\">\n",
              "  <thead>\n",
              "    <tr style=\"text-align: right;\">\n",
              "      <th></th>\n",
              "      <th>order_details_id</th>\n",
              "      <th>order_id</th>\n",
              "      <th>pizza_id</th>\n",
              "      <th>quantity</th>\n",
              "    </tr>\n",
              "  </thead>\n",
              "  <tbody>\n",
              "    <tr>\n",
              "      <th>0</th>\n",
              "      <td>1</td>\n",
              "      <td>1</td>\n",
              "      <td>hawaiian_m</td>\n",
              "      <td>1</td>\n",
              "    </tr>\n",
              "    <tr>\n",
              "      <th>1</th>\n",
              "      <td>2</td>\n",
              "      <td>2</td>\n",
              "      <td>classic_dlx_m</td>\n",
              "      <td>1</td>\n",
              "    </tr>\n",
              "    <tr>\n",
              "      <th>2</th>\n",
              "      <td>3</td>\n",
              "      <td>2</td>\n",
              "      <td>five_cheese_l</td>\n",
              "      <td>1</td>\n",
              "    </tr>\n",
              "    <tr>\n",
              "      <th>3</th>\n",
              "      <td>4</td>\n",
              "      <td>2</td>\n",
              "      <td>ital_supr_l</td>\n",
              "      <td>1</td>\n",
              "    </tr>\n",
              "    <tr>\n",
              "      <th>4</th>\n",
              "      <td>5</td>\n",
              "      <td>2</td>\n",
              "      <td>mexicana_m</td>\n",
              "      <td>1</td>\n",
              "    </tr>\n",
              "    <tr>\n",
              "      <th>...</th>\n",
              "      <td>...</td>\n",
              "      <td>...</td>\n",
              "      <td>...</td>\n",
              "      <td>...</td>\n",
              "    </tr>\n",
              "    <tr>\n",
              "      <th>495</th>\n",
              "      <td>496</td>\n",
              "      <td>212</td>\n",
              "      <td>ital_cpcllo_l</td>\n",
              "      <td>1</td>\n",
              "    </tr>\n",
              "    <tr>\n",
              "      <th>496</th>\n",
              "      <td>497</td>\n",
              "      <td>213</td>\n",
              "      <td>four_cheese_l</td>\n",
              "      <td>1</td>\n",
              "    </tr>\n",
              "    <tr>\n",
              "      <th>497</th>\n",
              "      <td>498</td>\n",
              "      <td>214</td>\n",
              "      <td>ital_cpcllo_l</td>\n",
              "      <td>1</td>\n",
              "    </tr>\n",
              "    <tr>\n",
              "      <th>498</th>\n",
              "      <td>499</td>\n",
              "      <td>214</td>\n",
              "      <td>ital_supr_m</td>\n",
              "      <td>1</td>\n",
              "    </tr>\n",
              "    <tr>\n",
              "      <th>499</th>\n",
              "      <td>500</td>\n",
              "      <td>214</td>\n",
              "      <td>mexicana_s</td>\n",
              "      <td>1</td>\n",
              "    </tr>\n",
              "  </tbody>\n",
              "</table>\n",
              "<p>500 rows × 4 columns</p>\n",
              "</div>\n",
              "      <button class=\"colab-df-convert\" onclick=\"convertToInteractive('df-d68e658d-537e-45c1-b18c-79afb7d84657')\"\n",
              "              title=\"Convert this dataframe to an interactive table.\"\n",
              "              style=\"display:none;\">\n",
              "        \n",
              "  <svg xmlns=\"http://www.w3.org/2000/svg\" height=\"24px\"viewBox=\"0 0 24 24\"\n",
              "       width=\"24px\">\n",
              "    <path d=\"M0 0h24v24H0V0z\" fill=\"none\"/>\n",
              "    <path d=\"M18.56 5.44l.94 2.06.94-2.06 2.06-.94-2.06-.94-.94-2.06-.94 2.06-2.06.94zm-11 1L8.5 8.5l.94-2.06 2.06-.94-2.06-.94L8.5 2.5l-.94 2.06-2.06.94zm10 10l.94 2.06.94-2.06 2.06-.94-2.06-.94-.94-2.06-.94 2.06-2.06.94z\"/><path d=\"M17.41 7.96l-1.37-1.37c-.4-.4-.92-.59-1.43-.59-.52 0-1.04.2-1.43.59L10.3 9.45l-7.72 7.72c-.78.78-.78 2.05 0 2.83L4 21.41c.39.39.9.59 1.41.59.51 0 1.02-.2 1.41-.59l7.78-7.78 2.81-2.81c.8-.78.8-2.07 0-2.86zM5.41 20L4 18.59l7.72-7.72 1.47 1.35L5.41 20z\"/>\n",
              "  </svg>\n",
              "      </button>\n",
              "      \n",
              "  <style>\n",
              "    .colab-df-container {\n",
              "      display:flex;\n",
              "      flex-wrap:wrap;\n",
              "      gap: 12px;\n",
              "    }\n",
              "\n",
              "    .colab-df-convert {\n",
              "      background-color: #E8F0FE;\n",
              "      border: none;\n",
              "      border-radius: 50%;\n",
              "      cursor: pointer;\n",
              "      display: none;\n",
              "      fill: #1967D2;\n",
              "      height: 32px;\n",
              "      padding: 0 0 0 0;\n",
              "      width: 32px;\n",
              "    }\n",
              "\n",
              "    .colab-df-convert:hover {\n",
              "      background-color: #E2EBFA;\n",
              "      box-shadow: 0px 1px 2px rgba(60, 64, 67, 0.3), 0px 1px 3px 1px rgba(60, 64, 67, 0.15);\n",
              "      fill: #174EA6;\n",
              "    }\n",
              "\n",
              "    [theme=dark] .colab-df-convert {\n",
              "      background-color: #3B4455;\n",
              "      fill: #D2E3FC;\n",
              "    }\n",
              "\n",
              "    [theme=dark] .colab-df-convert:hover {\n",
              "      background-color: #434B5C;\n",
              "      box-shadow: 0px 1px 3px 1px rgba(0, 0, 0, 0.15);\n",
              "      filter: drop-shadow(0px 1px 2px rgba(0, 0, 0, 0.3));\n",
              "      fill: #FFFFFF;\n",
              "    }\n",
              "  </style>\n",
              "\n",
              "      <script>\n",
              "        const buttonEl =\n",
              "          document.querySelector('#df-d68e658d-537e-45c1-b18c-79afb7d84657 button.colab-df-convert');\n",
              "        buttonEl.style.display =\n",
              "          google.colab.kernel.accessAllowed ? 'block' : 'none';\n",
              "\n",
              "        async function convertToInteractive(key) {\n",
              "          const element = document.querySelector('#df-d68e658d-537e-45c1-b18c-79afb7d84657');\n",
              "          const dataTable =\n",
              "            await google.colab.kernel.invokeFunction('convertToInteractive',\n",
              "                                                     [key], {});\n",
              "          if (!dataTable) return;\n",
              "\n",
              "          const docLinkHtml = 'Like what you see? Visit the ' +\n",
              "            '<a target=\"_blank\" href=https://colab.research.google.com/notebooks/data_table.ipynb>data table notebook</a>'\n",
              "            + ' to learn more about interactive tables.';\n",
              "          element.innerHTML = '';\n",
              "          dataTable['output_type'] = 'display_data';\n",
              "          await google.colab.output.renderOutput(dataTable, element);\n",
              "          const docLink = document.createElement('div');\n",
              "          docLink.innerHTML = docLinkHtml;\n",
              "          element.appendChild(docLink);\n",
              "        }\n",
              "      </script>\n",
              "    </div>\n",
              "  </div>\n",
              "  "
            ]
          },
          "metadata": {},
          "execution_count": 153
        }
      ]
    },
    {
      "cell_type": "code",
      "source": [
        "from sklearn.linear_model import LinearRegression"
      ],
      "metadata": {
        "id": "f3ORiSCzEVCz"
      },
      "execution_count": 154,
      "outputs": []
    },
    {
      "cell_type": "code",
      "source": [
        "model=LinearRegression()"
      ],
      "metadata": {
        "id": "rxx2qmTgE2JF"
      },
      "execution_count": 155,
      "outputs": []
    },
    {
      "cell_type": "code",
      "source": [
        "x=df.iloc[0:101,1:2].values\n",
        "y=df.iloc[0:101,3:4].values"
      ],
      "metadata": {
        "id": "0Pal02QVE6_L"
      },
      "execution_count": 156,
      "outputs": []
    },
    {
      "cell_type": "code",
      "source": [
        "x"
      ],
      "metadata": {
        "colab": {
          "base_uri": "https://localhost:8080/"
        },
        "id": "st0Qfpx1FDCE",
        "outputId": "7f996a54-b2fb-4df8-eafc-619daa337ab1"
      },
      "execution_count": 157,
      "outputs": [
        {
          "output_type": "execute_result",
          "data": {
            "text/plain": [
              "array([[ 1],\n",
              "       [ 2],\n",
              "       [ 2],\n",
              "       [ 2],\n",
              "       [ 2],\n",
              "       [ 2],\n",
              "       [ 3],\n",
              "       [ 3],\n",
              "       [ 4],\n",
              "       [ 5],\n",
              "       [ 6],\n",
              "       [ 6],\n",
              "       [ 7],\n",
              "       [ 8],\n",
              "       [ 9],\n",
              "       [ 9],\n",
              "       [ 9],\n",
              "       [ 9],\n",
              "       [ 9],\n",
              "       [ 9],\n",
              "       [ 9],\n",
              "       [ 9],\n",
              "       [ 9],\n",
              "       [10],\n",
              "       [10],\n",
              "       [11],\n",
              "       [11],\n",
              "       [11],\n",
              "       [11],\n",
              "       [12],\n",
              "       [12],\n",
              "       [12],\n",
              "       [12],\n",
              "       [13],\n",
              "       [14],\n",
              "       [15],\n",
              "       [15],\n",
              "       [15],\n",
              "       [15],\n",
              "       [16],\n",
              "       [16],\n",
              "       [16],\n",
              "       [17],\n",
              "       [17],\n",
              "       [17],\n",
              "       [17],\n",
              "       [17],\n",
              "       [17],\n",
              "       [17],\n",
              "       [17],\n",
              "       [17],\n",
              "       [17],\n",
              "       [18],\n",
              "       [19],\n",
              "       [19],\n",
              "       [20],\n",
              "       [20],\n",
              "       [21],\n",
              "       [22],\n",
              "       [22],\n",
              "       [22],\n",
              "       [23],\n",
              "       [24],\n",
              "       [24],\n",
              "       [24],\n",
              "       [24],\n",
              "       [25],\n",
              "       [25],\n",
              "       [26],\n",
              "       [26],\n",
              "       [27],\n",
              "       [27],\n",
              "       [27],\n",
              "       [28],\n",
              "       [29],\n",
              "       [30],\n",
              "       [31],\n",
              "       [31],\n",
              "       [32],\n",
              "       [32],\n",
              "       [32],\n",
              "       [32],\n",
              "       [33],\n",
              "       [33],\n",
              "       [34],\n",
              "       [35],\n",
              "       [35],\n",
              "       [35],\n",
              "       [35],\n",
              "       [36],\n",
              "       [36],\n",
              "       [37],\n",
              "       [37],\n",
              "       [38],\n",
              "       [38],\n",
              "       [39],\n",
              "       [40],\n",
              "       [40],\n",
              "       [41],\n",
              "       [41],\n",
              "       [42]])"
            ]
          },
          "metadata": {},
          "execution_count": 157
        }
      ]
    },
    {
      "cell_type": "code",
      "source": [
        "y"
      ],
      "metadata": {
        "colab": {
          "base_uri": "https://localhost:8080/"
        },
        "id": "durOCL_zFQ8-",
        "outputId": "d7db6fd5-3ab9-4c92-da59-eba25e0d59dd"
      },
      "execution_count": 158,
      "outputs": [
        {
          "output_type": "execute_result",
          "data": {
            "text/plain": [
              "array([[1],\n",
              "       [1],\n",
              "       [1],\n",
              "       [1],\n",
              "       [1],\n",
              "       [1],\n",
              "       [1],\n",
              "       [1],\n",
              "       [1],\n",
              "       [1],\n",
              "       [1],\n",
              "       [1],\n",
              "       [1],\n",
              "       [1],\n",
              "       [1],\n",
              "       [1],\n",
              "       [1],\n",
              "       [1],\n",
              "       [1],\n",
              "       [1],\n",
              "       [1],\n",
              "       [1],\n",
              "       [1],\n",
              "       [1],\n",
              "       [1],\n",
              "       [1],\n",
              "       [1],\n",
              "       [1],\n",
              "       [1],\n",
              "       [1],\n",
              "       [1],\n",
              "       [1],\n",
              "       [1],\n",
              "       [1],\n",
              "       [1],\n",
              "       [1],\n",
              "       [1],\n",
              "       [1],\n",
              "       [1],\n",
              "       [1],\n",
              "       [1],\n",
              "       [1],\n",
              "       [1],\n",
              "       [1],\n",
              "       [1],\n",
              "       [1],\n",
              "       [1],\n",
              "       [1],\n",
              "       [2],\n",
              "       [1],\n",
              "       [1],\n",
              "       [1],\n",
              "       [1],\n",
              "       [1],\n",
              "       [1],\n",
              "       [1],\n",
              "       [1],\n",
              "       [1],\n",
              "       [1],\n",
              "       [1],\n",
              "       [1],\n",
              "       [1],\n",
              "       [1],\n",
              "       [1],\n",
              "       [1],\n",
              "       [1],\n",
              "       [1],\n",
              "       [1],\n",
              "       [1],\n",
              "       [1],\n",
              "       [1],\n",
              "       [1],\n",
              "       [1],\n",
              "       [1],\n",
              "       [1],\n",
              "       [1],\n",
              "       [1],\n",
              "       [1],\n",
              "       [1],\n",
              "       [1],\n",
              "       [1],\n",
              "       [1],\n",
              "       [1],\n",
              "       [1],\n",
              "       [1],\n",
              "       [1],\n",
              "       [1],\n",
              "       [1],\n",
              "       [1],\n",
              "       [1],\n",
              "       [1],\n",
              "       [1],\n",
              "       [1],\n",
              "       [1],\n",
              "       [1],\n",
              "       [1],\n",
              "       [1],\n",
              "       [1],\n",
              "       [1],\n",
              "       [1],\n",
              "       [1]])"
            ]
          },
          "metadata": {},
          "execution_count": 158
        }
      ]
    },
    {
      "cell_type": "code",
      "source": [
        "from sklearn.preprocessing import LabelEncoder"
      ],
      "metadata": {
        "id": "XCe7bRGUKZ93"
      },
      "execution_count": 159,
      "outputs": []
    },
    {
      "cell_type": "code",
      "source": [
        "import pandas as pd \n",
        "from sklearn.tree import DecisionTreeClassifier\n",
        "from sklearn.model_selection import train_test_split\n",
        "from sklearn.metrics import accuracy_score\n",
        "from sklearn.preprocessing import LabelEncoder"
      ],
      "metadata": {
        "id": "z2N1ffqLIw8r"
      },
      "execution_count": 160,
      "outputs": []
    },
    {
      "cell_type": "code",
      "source": [
        "x_train,x_test,y_train,y_test=train_test_split(x,y,random_state=15,test_size=0.1)"
      ],
      "metadata": {
        "id": "KXRHmJO0K0K0"
      },
      "execution_count": 161,
      "outputs": []
    },
    {
      "cell_type": "code",
      "source": [
        "x_test.shape"
      ],
      "metadata": {
        "colab": {
          "base_uri": "https://localhost:8080/"
        },
        "id": "AOywpK7DK4FG",
        "outputId": "026b1d46-972e-405a-b16b-4a471d748ab7"
      },
      "execution_count": 162,
      "outputs": [
        {
          "output_type": "execute_result",
          "data": {
            "text/plain": [
              "(11, 1)"
            ]
          },
          "metadata": {},
          "execution_count": 162
        }
      ]
    },
    {
      "cell_type": "code",
      "source": [
        "x_train.shape"
      ],
      "metadata": {
        "colab": {
          "base_uri": "https://localhost:8080/"
        },
        "id": "8jeUr36TLaG2",
        "outputId": "0119da3f-51da-44ba-91ca-48cd5b6660f8"
      },
      "execution_count": 163,
      "outputs": [
        {
          "output_type": "execute_result",
          "data": {
            "text/plain": [
              "(90, 1)"
            ]
          },
          "metadata": {},
          "execution_count": 163
        }
      ]
    },
    {
      "cell_type": "code",
      "source": [
        "y_test.shape"
      ],
      "metadata": {
        "colab": {
          "base_uri": "https://localhost:8080/"
        },
        "id": "-NVQxkGXLkD6",
        "outputId": "65a04962-1159-47c6-aa28-ae1350f1447c"
      },
      "execution_count": 164,
      "outputs": [
        {
          "output_type": "execute_result",
          "data": {
            "text/plain": [
              "(11, 1)"
            ]
          },
          "metadata": {},
          "execution_count": 164
        }
      ]
    },
    {
      "cell_type": "code",
      "source": [
        "y_train.shape"
      ],
      "metadata": {
        "colab": {
          "base_uri": "https://localhost:8080/"
        },
        "id": "jqJCVHLoLmfN",
        "outputId": "623b2e03-ac70-420b-fb64-5f2fb9b760b0"
      },
      "execution_count": 165,
      "outputs": [
        {
          "output_type": "execute_result",
          "data": {
            "text/plain": [
              "(90, 1)"
            ]
          },
          "metadata": {},
          "execution_count": 165
        }
      ]
    },
    {
      "cell_type": "code",
      "source": [
        "from sklearn.feature_extraction.text import CountVectorizer"
      ],
      "metadata": {
        "id": "W2Cg93C2Lp9u"
      },
      "execution_count": 166,
      "outputs": []
    },
    {
      "cell_type": "code",
      "source": [
        "vect=CountVectorizer"
      ],
      "metadata": {
        "id": "dCtHhC9IL3Ul"
      },
      "execution_count": 167,
      "outputs": []
    },
    {
      "cell_type": "code",
      "source": [
        "s=[x]"
      ],
      "metadata": {
        "id": "FkJ6R29iL54t"
      },
      "execution_count": 168,
      "outputs": []
    },
    {
      "cell_type": "code",
      "source": [
        "s"
      ],
      "metadata": {
        "colab": {
          "base_uri": "https://localhost:8080/"
        },
        "id": "y2Rg-J-gMEwe",
        "outputId": "d4e7be44-2319-4c48-813b-1b8006b5cd85"
      },
      "execution_count": 169,
      "outputs": [
        {
          "output_type": "execute_result",
          "data": {
            "text/plain": [
              "[array([[ 1],\n",
              "        [ 2],\n",
              "        [ 2],\n",
              "        [ 2],\n",
              "        [ 2],\n",
              "        [ 2],\n",
              "        [ 3],\n",
              "        [ 3],\n",
              "        [ 4],\n",
              "        [ 5],\n",
              "        [ 6],\n",
              "        [ 6],\n",
              "        [ 7],\n",
              "        [ 8],\n",
              "        [ 9],\n",
              "        [ 9],\n",
              "        [ 9],\n",
              "        [ 9],\n",
              "        [ 9],\n",
              "        [ 9],\n",
              "        [ 9],\n",
              "        [ 9],\n",
              "        [ 9],\n",
              "        [10],\n",
              "        [10],\n",
              "        [11],\n",
              "        [11],\n",
              "        [11],\n",
              "        [11],\n",
              "        [12],\n",
              "        [12],\n",
              "        [12],\n",
              "        [12],\n",
              "        [13],\n",
              "        [14],\n",
              "        [15],\n",
              "        [15],\n",
              "        [15],\n",
              "        [15],\n",
              "        [16],\n",
              "        [16],\n",
              "        [16],\n",
              "        [17],\n",
              "        [17],\n",
              "        [17],\n",
              "        [17],\n",
              "        [17],\n",
              "        [17],\n",
              "        [17],\n",
              "        [17],\n",
              "        [17],\n",
              "        [17],\n",
              "        [18],\n",
              "        [19],\n",
              "        [19],\n",
              "        [20],\n",
              "        [20],\n",
              "        [21],\n",
              "        [22],\n",
              "        [22],\n",
              "        [22],\n",
              "        [23],\n",
              "        [24],\n",
              "        [24],\n",
              "        [24],\n",
              "        [24],\n",
              "        [25],\n",
              "        [25],\n",
              "        [26],\n",
              "        [26],\n",
              "        [27],\n",
              "        [27],\n",
              "        [27],\n",
              "        [28],\n",
              "        [29],\n",
              "        [30],\n",
              "        [31],\n",
              "        [31],\n",
              "        [32],\n",
              "        [32],\n",
              "        [32],\n",
              "        [32],\n",
              "        [33],\n",
              "        [33],\n",
              "        [34],\n",
              "        [35],\n",
              "        [35],\n",
              "        [35],\n",
              "        [35],\n",
              "        [36],\n",
              "        [36],\n",
              "        [37],\n",
              "        [37],\n",
              "        [38],\n",
              "        [38],\n",
              "        [39],\n",
              "        [40],\n",
              "        [40],\n",
              "        [41],\n",
              "        [41],\n",
              "        [42]])]"
            ]
          },
          "metadata": {},
          "execution_count": 169
        }
      ]
    },
    {
      "cell_type": "code",
      "source": [
        "type(s)"
      ],
      "metadata": {
        "colab": {
          "base_uri": "https://localhost:8080/"
        },
        "id": "DrXvEU_yMFtT",
        "outputId": "c91b6a0a-817a-4101-ab89-e68d583e7095"
      },
      "execution_count": 170,
      "outputs": [
        {
          "output_type": "execute_result",
          "data": {
            "text/plain": [
              "list"
            ]
          },
          "metadata": {},
          "execution_count": 170
        }
      ]
    },
    {
      "cell_type": "code",
      "source": [
        "from sklearn.linear_model import LinearRegression\n"
      ],
      "metadata": {
        "id": "CfdNJ3osMUWa"
      },
      "execution_count": 171,
      "outputs": []
    },
    {
      "cell_type": "code",
      "source": [
        "model=LinearRegression()"
      ],
      "metadata": {
        "id": "7GaaJwfENM_X"
      },
      "execution_count": 172,
      "outputs": []
    },
    {
      "cell_type": "code",
      "source": [
        "from sklearn.preprocessing import LabelEncoder"
      ],
      "metadata": {
        "id": "2vtdyDmpV2g3"
      },
      "execution_count": 173,
      "outputs": []
    },
    {
      "cell_type": "code",
      "source": [
        "x1=x"
      ],
      "metadata": {
        "id": "9_rFQfsVWLNJ"
      },
      "execution_count": 174,
      "outputs": []
    },
    {
      "cell_type": "code",
      "source": [
        "df = pd.DataFrame(x)"
      ],
      "metadata": {
        "id": "-lsBqbkJWTn3"
      },
      "execution_count": 175,
      "outputs": []
    },
    {
      "cell_type": "code",
      "source": [
        "le = LabelEncoder()"
      ],
      "metadata": {
        "id": "Ls15_eFJq6XG"
      },
      "execution_count": 176,
      "outputs": []
    },
    {
      "cell_type": "code",
      "source": [
        "def Encoder(df):\n",
        "          columnsToEncode = list(df.select_dtypes(x))\n",
        "          le = LabelEncoder()\n",
        "          for feature in columnsToEncode:\n",
        "              try:\n",
        "                  df[feature] = le.fit_transform(df[feature])\n",
        "              except:\n",
        "                  print('Error encoding '+feature)\n",
        "          return df"
      ],
      "metadata": {
        "id": "3jEFT7hXrIUU"
      },
      "execution_count": 177,
      "outputs": []
    },
    {
      "cell_type": "code",
      "source": [
        "model.fit(x1,y)"
      ],
      "metadata": {
        "colab": {
          "base_uri": "https://localhost:8080/"
        },
        "id": "3_EDCIHXXLJu",
        "outputId": "852821d8-50d7-4660-b8f6-d6dafb02eed8"
      },
      "execution_count": 178,
      "outputs": [
        {
          "output_type": "execute_result",
          "data": {
            "text/plain": [
              "LinearRegression()"
            ]
          },
          "metadata": {},
          "execution_count": 178
        }
      ]
    },
    {
      "cell_type": "code",
      "source": [
        "y_p=model.predict(x)"
      ],
      "metadata": {
        "id": "Omt3JZwuXX7e"
      },
      "execution_count": 181,
      "outputs": []
    },
    {
      "cell_type": "code",
      "source": [
        "y_p"
      ],
      "metadata": {
        "colab": {
          "base_uri": "https://localhost:8080/"
        },
        "id": "CUETQscQb52I",
        "outputId": "e034e09d-c248-4039-d20f-629898fd7aaa"
      },
      "execution_count": 182,
      "outputs": [
        {
          "output_type": "execute_result",
          "data": {
            "text/plain": [
              "array([[1.01423215],\n",
              "       [1.01400395],\n",
              "       [1.01400395],\n",
              "       [1.01400395],\n",
              "       [1.01400395],\n",
              "       [1.01400395],\n",
              "       [1.01377576],\n",
              "       [1.01377576],\n",
              "       [1.01354757],\n",
              "       [1.01331937],\n",
              "       [1.01309118],\n",
              "       [1.01309118],\n",
              "       [1.01286299],\n",
              "       [1.01263479],\n",
              "       [1.0124066 ],\n",
              "       [1.0124066 ],\n",
              "       [1.0124066 ],\n",
              "       [1.0124066 ],\n",
              "       [1.0124066 ],\n",
              "       [1.0124066 ],\n",
              "       [1.0124066 ],\n",
              "       [1.0124066 ],\n",
              "       [1.0124066 ],\n",
              "       [1.01217841],\n",
              "       [1.01217841],\n",
              "       [1.01195021],\n",
              "       [1.01195021],\n",
              "       [1.01195021],\n",
              "       [1.01195021],\n",
              "       [1.01172202],\n",
              "       [1.01172202],\n",
              "       [1.01172202],\n",
              "       [1.01172202],\n",
              "       [1.01149383],\n",
              "       [1.01126563],\n",
              "       [1.01103744],\n",
              "       [1.01103744],\n",
              "       [1.01103744],\n",
              "       [1.01103744],\n",
              "       [1.01080925],\n",
              "       [1.01080925],\n",
              "       [1.01080925],\n",
              "       [1.01058105],\n",
              "       [1.01058105],\n",
              "       [1.01058105],\n",
              "       [1.01058105],\n",
              "       [1.01058105],\n",
              "       [1.01058105],\n",
              "       [1.01058105],\n",
              "       [1.01058105],\n",
              "       [1.01058105],\n",
              "       [1.01058105],\n",
              "       [1.01035286],\n",
              "       [1.01012466],\n",
              "       [1.01012466],\n",
              "       [1.00989647],\n",
              "       [1.00989647],\n",
              "       [1.00966828],\n",
              "       [1.00944008],\n",
              "       [1.00944008],\n",
              "       [1.00944008],\n",
              "       [1.00921189],\n",
              "       [1.0089837 ],\n",
              "       [1.0089837 ],\n",
              "       [1.0089837 ],\n",
              "       [1.0089837 ],\n",
              "       [1.0087555 ],\n",
              "       [1.0087555 ],\n",
              "       [1.00852731],\n",
              "       [1.00852731],\n",
              "       [1.00829912],\n",
              "       [1.00829912],\n",
              "       [1.00829912],\n",
              "       [1.00807092],\n",
              "       [1.00784273],\n",
              "       [1.00761454],\n",
              "       [1.00738634],\n",
              "       [1.00738634],\n",
              "       [1.00715815],\n",
              "       [1.00715815],\n",
              "       [1.00715815],\n",
              "       [1.00715815],\n",
              "       [1.00692996],\n",
              "       [1.00692996],\n",
              "       [1.00670176],\n",
              "       [1.00647357],\n",
              "       [1.00647357],\n",
              "       [1.00647357],\n",
              "       [1.00647357],\n",
              "       [1.00624538],\n",
              "       [1.00624538],\n",
              "       [1.00601718],\n",
              "       [1.00601718],\n",
              "       [1.00578899],\n",
              "       [1.00578899],\n",
              "       [1.00556079],\n",
              "       [1.0053326 ],\n",
              "       [1.0053326 ],\n",
              "       [1.00510441],\n",
              "       [1.00510441],\n",
              "       [1.00487621]])"
            ]
          },
          "metadata": {},
          "execution_count": 182
        }
      ]
    },
    {
      "cell_type": "code",
      "source": [
        "plt.scatter(x,y)\n",
        "plt.show"
      ],
      "metadata": {
        "colab": {
          "base_uri": "https://localhost:8080/",
          "height": 283
        },
        "id": "O8Enm4wMb8mM",
        "outputId": "bc4f35fe-ea86-4250-a0cb-d8d496fd766d"
      },
      "execution_count": 183,
      "outputs": [
        {
          "output_type": "execute_result",
          "data": {
            "text/plain": [
              "<function matplotlib.pyplot.show(*args, **kw)>"
            ]
          },
          "metadata": {},
          "execution_count": 183
        },
        {
          "output_type": "display_data",
          "data": {
            "text/plain": [
              "<Figure size 432x288 with 1 Axes>"
            ],
            "image/png": "[encoded data removed]"
          },
          "metadata": {
            "needs_background": "light"
          }
        }
      ]
    },
    {
      "cell_type": "code",
      "source": [
        "plt.plot(x,y)\n",
        "plt.show"
      ],
      "metadata": {
        "colab": {
          "base_uri": "https://localhost:8080/",
          "height": 283
        },
        "id": "ecdPEFXZcDlr",
        "outputId": "d4677d00-874b-4a47-bef6-73748c923277"
      },
      "execution_count": 184,
      "outputs": [
        {
          "output_type": "execute_result",
          "data": {
            "text/plain": [
              "<function matplotlib.pyplot.show(*args, **kw)>"
            ]
          },
          "metadata": {},
          "execution_count": 184
        },
        {
          "output_type": "display_data",
          "data": {
            "text/plain": [
              "<Figure size 432x288 with 1 Axes>"
            ],
            "image/png": "[encoded data removed]"
          },
          "metadata": {
            "needs_background": "light"
          }
        }
      ]
    },
    {
      "cell_type": "code",
      "source": [
        "plt.plot(x,y_p)\n",
        "plt.show"
      ],
      "metadata": {
        "colab": {
          "base_uri": "https://localhost:8080/",
          "height": 283
        },
        "id": "Xhj8T9GHcSkB",
        "outputId": "d120fd82-4468-4251-8b6f-8472dbea598d"
      },
      "execution_count": 185,
      "outputs": [
        {
          "output_type": "execute_result",
          "data": {
            "text/plain": [
              "<function matplotlib.pyplot.show(*args, **kw)>"
            ]
          },
          "metadata": {},
          "execution_count": 185
        },
        {
          "output_type": "display_data",
          "data": {
            "text/plain": [
              "<Figure size 432x288 with 1 Axes>"
            ],
            "image/png": "[encoded data removed]"
          },
          "metadata": {
            "needs_background": "light"
          }
        }
      ]
    },
    {
      "cell_type": "code",
      "source": [
        "plt.scatter(x,y,color=\"red\",label=\"actual values\",linestyle=\":\")\n",
        "plt.plot(x,y_p,color=\"purple\",label='predicted values',linestyle=\"--\")\n",
        "plt.legend()\n",
        "plt.show"
      ],
      "metadata": {
        "colab": {
          "base_uri": "https://localhost:8080/",
          "height": 283
        },
        "id": "Ee5vmK6Wcdxs",
        "outputId": "e048c7da-31f6-4e27-e21e-e4f5850dc66f"
      },
      "execution_count": 186,
      "outputs": [
        {
          "output_type": "execute_result",
          "data": {
            "text/plain": [
              "<function matplotlib.pyplot.show(*args, **kw)>"
            ]
          },
          "metadata": {},
          "execution_count": 186
        },
        {
          "output_type": "display_data",
          "data": {
            "text/plain": [
              "<Figure size 432x288 with 1 Axes>"
            ],
            "image/png": "[encoded data removed]"
          },
          "metadata": {
            "needs_background": "light"
          }
        }
      ]
    },
    {
      "cell_type": "code",
      "source": [],
      "metadata": {
        "id": "fwU7lruBcnqU"
      },
      "execution_count": null,
      "outputs": []
    }
  ]
}